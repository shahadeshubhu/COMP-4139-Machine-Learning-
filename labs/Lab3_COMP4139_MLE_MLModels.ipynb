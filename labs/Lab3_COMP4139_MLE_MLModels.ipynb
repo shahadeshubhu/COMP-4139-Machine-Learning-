{
  "nbformat": 4,
  "nbformat_minor": 0,
  "metadata": {
    "colab": {
      "provenance": []
    },
    "kernelspec": {
      "name": "python3",
      "display_name": "Python 3"
    },
    "language_info": {
      "name": "python"
    }
  },
  "cells": [
    {
      "cell_type": "markdown",
      "source": [
        "### Setup"
      ],
      "metadata": {
        "id": "L0BHEtXpNI5x"
      }
    },
    {
      "cell_type": "code",
      "source": [
        "# !pip install -q scikit-learn numpy pandas matplotlib seaborn\n",
        "\n",
        "import numpy as np\n",
        "import pandas as pd\n",
        "from sklearn.model_selection import train_test_split\n",
        "from sklearn.linear_model import LogisticRegression\n",
        "from sklearn.naive_bayes import GaussianNB\n",
        "from sklearn.neighbors import KNeighborsClassifier\n",
        "from sklearn.svm import SVC\n",
        "from sklearn.preprocessing import StandardScaler\n",
        "from sklearn.decomposition import PCA\n",
        "import matplotlib.pyplot as plt\n",
        "\n",
        "%matplotlib inline\n"
      ],
      "metadata": {
        "id": "K_NKzslbNKsT"
      },
      "execution_count": 4,
      "outputs": []
    },
    {
      "cell_type": "markdown",
      "source": [
        "### Load data and preprocessing"
      ],
      "metadata": {
        "id": "mx7qVs9dNMjS"
      }
    },
    {
      "cell_type": "code",
      "source": [
        "df = pd.read_csv(\"/content/WDBC.csv\")  # If working from raw again\n",
        "\n",
        "# Drop ID\n",
        "df = df.drop(columns=[col for col in df.columns if col.lower() == \"id\"])\n",
        "df[\"Diagnosis\"] = df[\"Diagnosis\"].replace({\"M\": 1, \"B\": 0})\n",
        "\n",
        "y = df[\"Diagnosis\"]\n",
        "X = df.drop(columns=[\"Diagnosis\"])\n",
        "\n",
        "# Normalize features\n",
        "scaler = StandardScaler()\n",
        "Xs = scaler.fit_transform(X)\n"
      ],
      "metadata": {
        "colab": {
          "base_uri": "https://localhost:8080/"
        },
        "id": "5HcURozgNRxv",
        "outputId": "dc005cf7-0d72-42ff-e091-45e41a201a87"
      },
      "execution_count": 5,
      "outputs": [
        {
          "output_type": "stream",
          "name": "stderr",
          "text": [
            "/tmp/ipython-input-239682961.py:5: FutureWarning: Downcasting behavior in `replace` is deprecated and will be removed in a future version. To retain the old behavior, explicitly call `result.infer_objects(copy=False)`. To opt-in to the future behavior, set `pd.set_option('future.no_silent_downcasting', True)`\n",
            "  df[\"Diagnosis\"] = df[\"Diagnosis\"].replace({\"M\": 1, \"B\": 0})\n"
          ]
        }
      ]
    },
    {
      "cell_type": "markdown",
      "source": [
        "### Train-Test Split"
      ],
      "metadata": {
        "id": "XHVXtRatNX7H"
      }
    },
    {
      "cell_type": "code",
      "source": [
        "# Use normalised features (Xs) and labels (y)\n",
        "# If using PCA-reduced df:\n",
        "X = df.drop(columns=[\"Diagnosis\"])\n",
        "y = df[\"Diagnosis\"]\n",
        "\n",
        "Xs_train, Xs_test, y_train, y_test = train_test_split(\n",
        "    X, y, test_size=0.3, stratify=y, random_state=1\n",
        ")\n",
        "\n",
        "print(\"Train shape:\", Xs_train.shape)\n",
        "print(\"Test shape:\", Xs_test.shape)\n"
      ],
      "metadata": {
        "colab": {
          "base_uri": "https://localhost:8080/"
        },
        "id": "NWmER7_5NaGD",
        "outputId": "0216477d-0a61-47d5-d21c-71cfedddc72f"
      },
      "execution_count": 6,
      "outputs": [
        {
          "output_type": "stream",
          "name": "stdout",
          "text": [
            "Train shape: (398, 30)\n",
            "Test shape: (171, 30)\n"
          ]
        }
      ]
    },
    {
      "cell_type": "markdown",
      "source": [
        "### ML Models"
      ],
      "metadata": {
        "id": "M9lmwZszNbxn"
      }
    },
    {
      "cell_type": "markdown",
      "source": [
        "#### Logistic regression"
      ],
      "metadata": {
        "id": "DfwhcUApNj1Y"
      }
    },
    {
      "cell_type": "code",
      "source": [
        "log_reg = LogisticRegression()\n",
        "log_reg.fit(Xs_train, y_train)\n",
        "\n",
        "log_acc = log_reg.score(Xs_test, y_test)\n",
        "print(f\"Logistic Regression Accuracy: {log_acc:.2f}\")\n"
      ],
      "metadata": {
        "colab": {
          "base_uri": "https://localhost:8080/"
        },
        "id": "NYSmlhkwNhf5",
        "outputId": "810651f3-da1f-410d-dda1-6b54a02cb68c"
      },
      "execution_count": 7,
      "outputs": [
        {
          "output_type": "stream",
          "name": "stdout",
          "text": [
            "Logistic Regression Accuracy: 0.95\n"
          ]
        },
        {
          "output_type": "stream",
          "name": "stderr",
          "text": [
            "/usr/local/lib/python3.12/dist-packages/sklearn/linear_model/_logistic.py:465: ConvergenceWarning: lbfgs failed to converge (status=1):\n",
            "STOP: TOTAL NO. OF ITERATIONS REACHED LIMIT.\n",
            "\n",
            "Increase the number of iterations (max_iter) or scale the data as shown in:\n",
            "    https://scikit-learn.org/stable/modules/preprocessing.html\n",
            "Please also refer to the documentation for alternative solver options:\n",
            "    https://scikit-learn.org/stable/modules/linear_model.html#logistic-regression\n",
            "  n_iter_i = _check_optimize_result(\n"
          ]
        }
      ]
    },
    {
      "cell_type": "markdown",
      "source": [
        "#### Gaussian Naive Bayes"
      ],
      "metadata": {
        "id": "s6bv9NiQNoVS"
      }
    },
    {
      "cell_type": "code",
      "source": [
        "gnb_clf = GaussianNB()\n",
        "gnb_clf.fit(Xs_train, y_train)\n",
        "\n",
        "gnb_acc = gnb_clf.score(Xs_test, y_test)\n",
        "print(f\"Naive Bayes Accuracy: {gnb_acc:.2f}\")\n"
      ],
      "metadata": {
        "colab": {
          "base_uri": "https://localhost:8080/"
        },
        "id": "-1uxKu_-NrlO",
        "outputId": "d5e96299-b631-430b-b860-db2ef0807c63"
      },
      "execution_count": 8,
      "outputs": [
        {
          "output_type": "stream",
          "name": "stdout",
          "text": [
            "Naive Bayes Accuracy: 0.95\n"
          ]
        }
      ]
    },
    {
      "cell_type": "markdown",
      "source": [
        "#### K Nearest neighbour"
      ],
      "metadata": {
        "id": "FqT709bXNtJA"
      }
    },
    {
      "cell_type": "code",
      "source": [
        "knn_clf = KNeighborsClassifier(n_neighbors=3)\n",
        "knn_clf.fit(Xs_train, y_train)\n",
        "\n",
        "knn_acc = knn_clf.score(Xs_test, y_test)\n",
        "print(f\"KNN Accuracy (k=3): {knn_acc:.2f}\")\n"
      ],
      "metadata": {
        "colab": {
          "base_uri": "https://localhost:8080/"
        },
        "id": "xJm_p7OjNvci",
        "outputId": "d6f0f671-a6ff-4be0-c476-14bfa279bda4"
      },
      "execution_count": 9,
      "outputs": [
        {
          "output_type": "stream",
          "name": "stdout",
          "text": [
            "KNN Accuracy (k=3): 0.91\n"
          ]
        }
      ]
    },
    {
      "cell_type": "markdown",
      "source": [
        "#### Suport Vector Machine"
      ],
      "metadata": {
        "id": "DpW0DQXjNxvu"
      }
    },
    {
      "cell_type": "code",
      "source": [
        "svm_clf = SVC(C=1.0, kernel='rbf', degree=3, gamma='auto', probability=True)\n",
        "svm_clf.fit(Xs_train, y_train)\n",
        "\n",
        "svm_acc = svm_clf.score(Xs_test, y_test)\n",
        "print(f\"SVM Accuracy: {svm_acc:.2f}\")"
      ],
      "metadata": {
        "colab": {
          "base_uri": "https://localhost:8080/"
        },
        "id": "W7Na9jfUN1qa",
        "outputId": "6d214760-6840-4409-e7a9-98656d9c491c"
      },
      "execution_count": 10,
      "outputs": [
        {
          "output_type": "stream",
          "name": "stdout",
          "text": [
            "SVM Accuracy: 0.63\n"
          ]
        }
      ]
    },
    {
      "cell_type": "markdown",
      "source": [
        "### Results"
      ],
      "metadata": {
        "id": "QoLPBYmZN2Lg"
      }
    },
    {
      "cell_type": "code",
      "source": [
        "print(\"Model Accuracy Comparison:\")\n",
        "print(f\" - Logistic Regression: {log_acc:.2f}\")\n",
        "print(f\" - Naive Bayes       : {gnb_acc:.2f}\")\n",
        "print(f\" - KNN (k=3)          : {knn_acc:.2f}\")\n",
        "print(f\" - SVM (RBF kernel)   : {svm_acc:.2f}\")\n"
      ],
      "metadata": {
        "colab": {
          "base_uri": "https://localhost:8080/"
        },
        "id": "ITvatz3fN4wt",
        "outputId": "3ee4921a-b583-492d-f64d-8f8e49c5e503"
      },
      "execution_count": 11,
      "outputs": [
        {
          "output_type": "stream",
          "name": "stdout",
          "text": [
            "Model Accuracy Comparison:\n",
            " - Logistic Regression: 0.95\n",
            " - Naive Bayes       : 0.95\n",
            " - KNN (k=3)          : 0.91\n",
            " - SVM (RBF kernel)   : 0.63\n"
          ]
        }
      ]
    }
  ]
}